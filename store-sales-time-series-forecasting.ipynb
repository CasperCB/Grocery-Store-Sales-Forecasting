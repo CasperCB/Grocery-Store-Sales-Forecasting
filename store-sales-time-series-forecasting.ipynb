{
 "cells": [
  {
   "cell_type": "code",
   "execution_count": 1,
   "id": "7b9f2b6b",
   "metadata": {
    "_cell_guid": "b1076dfc-b9ad-4769-8c92-a6c4dae69d19",
    "_uuid": "8f2839f25d086af736a60e9eeb907d3b93b6e0e5",
    "execution": {
     "iopub.execute_input": "2023-03-29T14:23:42.177153Z",
     "iopub.status.busy": "2023-03-29T14:23:42.176144Z",
     "iopub.status.idle": "2023-03-29T14:23:43.790967Z",
     "shell.execute_reply": "2023-03-29T14:23:43.789564Z"
    },
    "papermill": {
     "duration": 1.625518,
     "end_time": "2023-03-29T14:23:43.794972",
     "exception": false,
     "start_time": "2023-03-29T14:23:42.169454",
     "status": "completed"
    },
    "tags": []
   },
   "outputs": [
    {
     "name": "stdout",
     "output_type": "stream",
     "text": [
      "/kaggle/input/store-sales-time-series-forecasting/oil.csv\n",
      "/kaggle/input/store-sales-time-series-forecasting/sample_submission.csv\n",
      "/kaggle/input/store-sales-time-series-forecasting/holidays_events.csv\n",
      "/kaggle/input/store-sales-time-series-forecasting/stores.csv\n",
      "/kaggle/input/store-sales-time-series-forecasting/train.csv\n",
      "/kaggle/input/store-sales-time-series-forecasting/test.csv\n",
      "/kaggle/input/store-sales-time-series-forecasting/transactions.csv\n"
     ]
    }
   ],
   "source": [
    "# Setup notebook\n",
    "from warnings import simplefilter\n",
    "from pathlib import Path\n",
    "import numpy as np # linear algebra\n",
    "import pandas as pd # data processing\n",
    "import matplotlib.pyplot as plt # plotting\n",
    "import seaborn as sns\n",
    "\n",
    "from sklearn.linear_model import LinearRegression\n",
    "from sklearn.metrics import mean_squared_log_error\n",
    "from sklearn.model_selection import TimeSeriesSplit\n",
    "from statsmodels.tsa.deterministic import CalendarFourier, DeterministicProcess \n",
    "from statsmodels.graphics.tsaplots import plot_pacf\n",
    "\n",
    "\n",
    "# Input data files are available in the read-only \"../input/\" directory\n",
    "# For example, running this (by clicking run or pressing Shift+Enter) will list all files under the input directory\n",
    "\n",
    "import os\n",
    "for dirname, _, filenames in os.walk('/kaggle/input'):\n",
    "    for filename in filenames:\n",
    "        print(os.path.join(dirname, filename))"
   ]
  },
  {
   "cell_type": "code",
   "execution_count": 2,
   "id": "5d5d2c24",
   "metadata": {
    "_kg_hide-output": false,
    "execution": {
     "iopub.execute_input": "2023-03-29T14:23:43.802742Z",
     "iopub.status.busy": "2023-03-29T14:23:43.802358Z",
     "iopub.status.idle": "2023-03-29T14:23:47.854319Z",
     "shell.execute_reply": "2023-03-29T14:23:47.852801Z"
    },
    "papermill": {
     "duration": 4.059309,
     "end_time": "2023-03-29T14:23:47.857742",
     "exception": false,
     "start_time": "2023-03-29T14:23:43.798433",
     "status": "completed"
    },
    "tags": []
   },
   "outputs": [],
   "source": [
    "# load training set\n",
    "comp_dir = Path('../input/store-sales-time-series-forecasting')\n",
    "store_sales = pd.read_csv(\n",
    "    comp_dir / 'train.csv',\n",
    "    usecols = ['date', 'store_nbr', 'family', 'sales', 'onpromotion'],\n",
    "    dtype={\n",
    "        'store_nbr': 'category',\n",
    "        'family': 'category',\n",
    "        'sales': 'float32',\n",
    "        'onpromotion': 'uint32'},\n",
    "    parse_dates=['date'],\n",
    "    infer_datetime_format=True,\n",
    "    )\n",
    "\n",
    "store_sales['date'] = store_sales.date.dt.to_period('D') # convert dates to pandas period dtype\n",
    "\n",
    "# define a new Data Frame to manipulate, here I'm following code posted in the Kaggle Time Series exercise\n",
    "# NOTE -> we aren't using information on individual stores (store_nbr) yet, but will likely want to include soon\n",
    "family_sales = (\n",
    "    store_sales\n",
    "    .groupby(['family', 'date']) \n",
    "    .mean() \n",
    "    .unstack('family') \n",
    "    .loc['2017', ['sales', 'onpromotion']]\n",
    ")    \n",
    "\n",
    "# sneak peek at training set\n",
    "#family_sales.head()"
   ]
  },
  {
   "cell_type": "code",
   "execution_count": 3,
   "id": "ecf812c9",
   "metadata": {
    "execution": {
     "iopub.execute_input": "2023-03-29T14:23:47.866094Z",
     "iopub.status.busy": "2023-03-29T14:23:47.865630Z",
     "iopub.status.idle": "2023-03-29T14:23:47.889587Z",
     "shell.execute_reply": "2023-03-29T14:23:47.888147Z"
    },
    "papermill": {
     "duration": 0.031747,
     "end_time": "2023-03-29T14:23:47.892811",
     "exception": false,
     "start_time": "2023-03-29T14:23:47.861064",
     "status": "completed"
    },
    "tags": []
   },
   "outputs": [],
   "source": [
    "# grab all categories of sales\n",
    "families = store_sales.family.unique().astype(str)\n",
    "\n",
    "#print(\"Shape of training set is:\", family_sales.shape, '\\n')\n",
    "#print(\"There are \", families.size, \"categories: \", families)"
   ]
  },
  {
   "cell_type": "code",
   "execution_count": 4,
   "id": "ad6d73f0",
   "metadata": {
    "execution": {
     "iopub.execute_input": "2023-03-29T14:23:47.899897Z",
     "iopub.status.busy": "2023-03-29T14:23:47.899481Z",
     "iopub.status.idle": "2023-03-29T14:23:47.949484Z",
     "shell.execute_reply": "2023-03-29T14:23:47.948303Z"
    },
    "papermill": {
     "duration": 0.056721,
     "end_time": "2023-03-29T14:23:47.952358",
     "exception": false,
     "start_time": "2023-03-29T14:23:47.895637",
     "status": "completed"
    },
    "tags": []
   },
   "outputs": [],
   "source": [
    "# don't need onpromotion data yet\n",
    "sales = family_sales.loc[:, 'sales'].squeeze()\n",
    "\n",
    "# set seasonality for model\n",
    "fourier = CalendarFourier(freq='M', order=4)\n",
    "    \n",
    "# create time features \n",
    "dp = DeterministicProcess(\n",
    "     constant=True, # includes a constant\n",
    "     index=sales.index, # should be the date\n",
    "     order=1, # look for a linear trend\n",
    "     seasonal=True, # include seasonality\n",
    "     drop=True, # drop linearly dependent terms\n",
    "     additional_terms=[fourier], # add fourier pairs for modeling seasons\n",
    "     )\n",
    "X_time = dp.in_sample()\n",
    "X_time['NewYearsDay'] = (X_time.index.dayofyear == 1)\n",
    "\n",
    "# initialize variables\n",
    "y_deseason = pd.DataFrame(index = sales.index) # deseasoned data\n",
    "\n",
    "# train model to detrend and deseason the data\n",
    "model_season = LinearRegression().fit(X_time, sales)\n",
    "          \n",
    "# store deseasoned data\n",
    "y_pred = model_season.predict(X_time)\n",
    "y_deseason= pd.DataFrame(sales - y_pred, index = sales.index, columns = sales.columns)    \n",
    "\n",
    "# store model weights\n",
    "model_params = pd.DataFrame(model_season.coef_, index = families, columns = [X_time.columns]).T # store model weights as DataFrame\n",
    "intercepts = pd.Series(model_season.intercept_, index = families, name = 'intercept') # store intercepts as Series"
   ]
  },
  {
   "cell_type": "code",
   "execution_count": 5,
   "id": "8438f2e3",
   "metadata": {
    "execution": {
     "iopub.execute_input": "2023-03-29T14:23:47.959968Z",
     "iopub.status.busy": "2023-03-29T14:23:47.959166Z",
     "iopub.status.idle": "2023-03-29T14:23:48.012448Z",
     "shell.execute_reply": "2023-03-29T14:23:48.010820Z"
    },
    "papermill": {
     "duration": 0.060694,
     "end_time": "2023-03-29T14:23:48.015903",
     "exception": false,
     "start_time": "2023-03-29T14:23:47.955209",
     "status": "completed"
    },
    "tags": []
   },
   "outputs": [],
   "source": [
    "# load in the test set\n",
    "test = pd.read_csv(\n",
    "    comp_dir / 'test.csv',\n",
    "    dtype={\n",
    "        'store_nbr': 'category',\n",
    "        'family': 'category',\n",
    "        'onpromotion': 'uint32',\n",
    "    },\n",
    "    parse_dates=['date'],\n",
    "    infer_datetime_format=True,\n",
    ")\n",
    "test['date'] = test.date.dt.to_period('D')\n",
    "test = test.set_index(['store_nbr', 'family']).sort_index()"
   ]
  },
  {
   "cell_type": "code",
   "execution_count": 6,
   "id": "e03b3949",
   "metadata": {
    "execution": {
     "iopub.execute_input": "2023-03-29T14:23:48.023317Z",
     "iopub.status.busy": "2023-03-29T14:23:48.022932Z",
     "iopub.status.idle": "2023-03-29T14:23:53.326801Z",
     "shell.execute_reply": "2023-03-29T14:23:53.325738Z"
    },
    "papermill": {
     "duration": 5.310625,
     "end_time": "2023-03-29T14:23:53.329490",
     "exception": false,
     "start_time": "2023-03-29T14:23:48.018865",
     "status": "completed"
    },
    "tags": []
   },
   "outputs": [],
   "source": [
    "# make predictions for test set\n",
    "# will use a dictionary to store id:sales for every test value\n",
    "test_dict = {}\n",
    "       \n",
    "# generate features for 16-day forecast window\n",
    "X_test = dp.out_of_sample(steps = 16)\n",
    "X_test['NewYearsDay'] = (X_test.index.dayofyear == 1)\n",
    "\n",
    "# loop over all stores\n",
    "for store_nbr, test_0 in test.groupby(level = 0):\n",
    "    \n",
    "    # loop over all sales categories\n",
    "    for family, test_1 in test_0.groupby(level = 1):\n",
    "        \n",
    "        # pick current category\n",
    "        test_family = test_1.index.get_level_values(1)[0]\n",
    "    \n",
    "        # fetch linear model for detrend & deseason\n",
    "        model_1 = LinearRegression()\n",
    "        model_1.coef_ = model_params[test_family]\n",
    "        model_1.intercept_ = intercepts[test_family]\n",
    "        model_1.feature_names_in_ = X_test.columns\n",
    "        \n",
    "        # predict sales for forecast window, output is a list\n",
    "        y_test = model_1.predict(X_test)\n",
    "        y_test = np.where(y_test<0, 0, y_test) # metric is RMSLE, replace negative values to avoid log errors\n",
    "        \n",
    "        # grab test ids, output is a list\n",
    "        keys = test_1.id.to_string(header = False, index = False).split()\n",
    "        \n",
    "        # store ids and inferences in a dictionary\n",
    "        for i, key in enumerate(keys):\n",
    "            value = y_test[i]\n",
    "            test_dict[key] = value\n",
    "            \n",
    "# convert dictionary of inferences to DataFrame to write to .csv\n",
    "test_sub = pd.DataFrame.from_dict(test_dict, orient = 'index', columns = ['sales'])\n",
    "test_sub.index.name = 'id' \n",
    "test_sub = test_sub.sort_index(ascending = True)\n",
    "\n",
    "test_sub.to_csv('submission.csv')"
   ]
  }
 ],
 "metadata": {
  "kernelspec": {
   "display_name": "Python 3",
   "language": "python",
   "name": "python3"
  },
  "language_info": {
   "codemirror_mode": {
    "name": "ipython",
    "version": 3
   },
   "file_extension": ".py",
   "mimetype": "text/x-python",
   "name": "python",
   "nbconvert_exporter": "python",
   "pygments_lexer": "ipython3",
   "version": "3.7.12"
  },
  "papermill": {
   "default_parameters": {},
   "duration": 21.840049,
   "end_time": "2023-03-29T14:23:54.056224",
   "environment_variables": {},
   "exception": null,
   "input_path": "__notebook__.ipynb",
   "output_path": "__notebook__.ipynb",
   "parameters": {},
   "start_time": "2023-03-29T14:23:32.216175",
   "version": "2.4.0"
  }
 },
 "nbformat": 4,
 "nbformat_minor": 5
}
